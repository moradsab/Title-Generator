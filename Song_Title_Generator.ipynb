{
  "cells": [
    {
      "cell_type": "markdown",
      "metadata": {
        "id": "Zk4zqLSEqxXD"
      },
      "source": [
        "This is an implementation of a Seq2Seq model for generating song titles. The model consists of an Encoder and a Decoder.\n",
        "\n",
        "The Encoder takes in the input text (song lyrics) and converts it into a fixed-length vector representation. It does this by first converting each word in the input text into a high-dimensional vector using an embedding layer. The LSTM layer then processes these vectors sequentially and outputs a final hidden state and cell state, which represent the encoded representation of the input text.\n",
        "\n",
        "The Decoder takes in the encoded representation, and generates the output text (song titles) word-by-word. It does this by using the encoded representation as the initial hidden state and cell state, and then predicting the next word in the output text using an LSTM layer and a linear layer. The predicted word is then fed back into the LSTM layer to generate the next word, and so on until the entire output text has been generated.\n",
        "\n",
        "The Seq2Seq model as a whole is trained using a teacher forcing approach, where during training, the true output sequence is used as the input to the Decoder at each time step. During inference (i.e., when generating song titles), the model uses its own predicted output sequence as the input to the Decoder at each time step.\n",
        "\n",
        "Overall, this model can be used to generate song titles given a set of song lyrics as input."
      ]
    },
    {
      "cell_type": "markdown",
      "metadata": {
        "collapsed": false,
        "id": "uwIIPJNG8nXn"
      },
      "source": [
        "### Download the dataset from Kaggle"
      ]
    },
    {
      "cell_type": "code",
      "execution_count": 1,
      "metadata": {
        "colab": {
          "base_uri": "https://localhost:8080/",
          "height": 127
        },
        "collapsed": true,
        "id": "MW3dhq6k8nXo",
        "outputId": "fe686fe4-af0f-4842-c1fc-0ef19ea345f7"
      },
      "outputs": [
        {
          "output_type": "display_data",
          "data": {
            "text/plain": [
              "<IPython.core.display.HTML object>"
            ],
            "text/html": [
              "\n",
              "     <input type=\"file\" id=\"files-8d0ad4fd-857c-4af2-88ef-4c042c269fad\" name=\"files[]\" multiple disabled\n",
              "        style=\"border:none\" />\n",
              "     <output id=\"result-8d0ad4fd-857c-4af2-88ef-4c042c269fad\">\n",
              "      Upload widget is only available when the cell has been executed in the\n",
              "      current browser session. Please rerun this cell to enable.\n",
              "      </output>\n",
              "      <script>// Copyright 2017 Google LLC\n",
              "//\n",
              "// Licensed under the Apache License, Version 2.0 (the \"License\");\n",
              "// you may not use this file except in compliance with the License.\n",
              "// You may obtain a copy of the License at\n",
              "//\n",
              "//      http://www.apache.org/licenses/LICENSE-2.0\n",
              "//\n",
              "// Unless required by applicable law or agreed to in writing, software\n",
              "// distributed under the License is distributed on an \"AS IS\" BASIS,\n",
              "// WITHOUT WARRANTIES OR CONDITIONS OF ANY KIND, either express or implied.\n",
              "// See the License for the specific language governing permissions and\n",
              "// limitations under the License.\n",
              "\n",
              "/**\n",
              " * @fileoverview Helpers for google.colab Python module.\n",
              " */\n",
              "(function(scope) {\n",
              "function span(text, styleAttributes = {}) {\n",
              "  const element = document.createElement('span');\n",
              "  element.textContent = text;\n",
              "  for (const key of Object.keys(styleAttributes)) {\n",
              "    element.style[key] = styleAttributes[key];\n",
              "  }\n",
              "  return element;\n",
              "}\n",
              "\n",
              "// Max number of bytes which will be uploaded at a time.\n",
              "const MAX_PAYLOAD_SIZE = 100 * 1024;\n",
              "\n",
              "function _uploadFiles(inputId, outputId) {\n",
              "  const steps = uploadFilesStep(inputId, outputId);\n",
              "  const outputElement = document.getElementById(outputId);\n",
              "  // Cache steps on the outputElement to make it available for the next call\n",
              "  // to uploadFilesContinue from Python.\n",
              "  outputElement.steps = steps;\n",
              "\n",
              "  return _uploadFilesContinue(outputId);\n",
              "}\n",
              "\n",
              "// This is roughly an async generator (not supported in the browser yet),\n",
              "// where there are multiple asynchronous steps and the Python side is going\n",
              "// to poll for completion of each step.\n",
              "// This uses a Promise to block the python side on completion of each step,\n",
              "// then passes the result of the previous step as the input to the next step.\n",
              "function _uploadFilesContinue(outputId) {\n",
              "  const outputElement = document.getElementById(outputId);\n",
              "  const steps = outputElement.steps;\n",
              "\n",
              "  const next = steps.next(outputElement.lastPromiseValue);\n",
              "  return Promise.resolve(next.value.promise).then((value) => {\n",
              "    // Cache the last promise value to make it available to the next\n",
              "    // step of the generator.\n",
              "    outputElement.lastPromiseValue = value;\n",
              "    return next.value.response;\n",
              "  });\n",
              "}\n",
              "\n",
              "/**\n",
              " * Generator function which is called between each async step of the upload\n",
              " * process.\n",
              " * @param {string} inputId Element ID of the input file picker element.\n",
              " * @param {string} outputId Element ID of the output display.\n",
              " * @return {!Iterable<!Object>} Iterable of next steps.\n",
              " */\n",
              "function* uploadFilesStep(inputId, outputId) {\n",
              "  const inputElement = document.getElementById(inputId);\n",
              "  inputElement.disabled = false;\n",
              "\n",
              "  const outputElement = document.getElementById(outputId);\n",
              "  outputElement.innerHTML = '';\n",
              "\n",
              "  const pickedPromise = new Promise((resolve) => {\n",
              "    inputElement.addEventListener('change', (e) => {\n",
              "      resolve(e.target.files);\n",
              "    });\n",
              "  });\n",
              "\n",
              "  const cancel = document.createElement('button');\n",
              "  inputElement.parentElement.appendChild(cancel);\n",
              "  cancel.textContent = 'Cancel upload';\n",
              "  const cancelPromise = new Promise((resolve) => {\n",
              "    cancel.onclick = () => {\n",
              "      resolve(null);\n",
              "    };\n",
              "  });\n",
              "\n",
              "  // Wait for the user to pick the files.\n",
              "  const files = yield {\n",
              "    promise: Promise.race([pickedPromise, cancelPromise]),\n",
              "    response: {\n",
              "      action: 'starting',\n",
              "    }\n",
              "  };\n",
              "\n",
              "  cancel.remove();\n",
              "\n",
              "  // Disable the input element since further picks are not allowed.\n",
              "  inputElement.disabled = true;\n",
              "\n",
              "  if (!files) {\n",
              "    return {\n",
              "      response: {\n",
              "        action: 'complete',\n",
              "      }\n",
              "    };\n",
              "  }\n",
              "\n",
              "  for (const file of files) {\n",
              "    const li = document.createElement('li');\n",
              "    li.append(span(file.name, {fontWeight: 'bold'}));\n",
              "    li.append(span(\n",
              "        `(${file.type || 'n/a'}) - ${file.size} bytes, ` +\n",
              "        `last modified: ${\n",
              "            file.lastModifiedDate ? file.lastModifiedDate.toLocaleDateString() :\n",
              "                                    'n/a'} - `));\n",
              "    const percent = span('0% done');\n",
              "    li.appendChild(percent);\n",
              "\n",
              "    outputElement.appendChild(li);\n",
              "\n",
              "    const fileDataPromise = new Promise((resolve) => {\n",
              "      const reader = new FileReader();\n",
              "      reader.onload = (e) => {\n",
              "        resolve(e.target.result);\n",
              "      };\n",
              "      reader.readAsArrayBuffer(file);\n",
              "    });\n",
              "    // Wait for the data to be ready.\n",
              "    let fileData = yield {\n",
              "      promise: fileDataPromise,\n",
              "      response: {\n",
              "        action: 'continue',\n",
              "      }\n",
              "    };\n",
              "\n",
              "    // Use a chunked sending to avoid message size limits. See b/62115660.\n",
              "    let position = 0;\n",
              "    do {\n",
              "      const length = Math.min(fileData.byteLength - position, MAX_PAYLOAD_SIZE);\n",
              "      const chunk = new Uint8Array(fileData, position, length);\n",
              "      position += length;\n",
              "\n",
              "      const base64 = btoa(String.fromCharCode.apply(null, chunk));\n",
              "      yield {\n",
              "        response: {\n",
              "          action: 'append',\n",
              "          file: file.name,\n",
              "          data: base64,\n",
              "        },\n",
              "      };\n",
              "\n",
              "      let percentDone = fileData.byteLength === 0 ?\n",
              "          100 :\n",
              "          Math.round((position / fileData.byteLength) * 100);\n",
              "      percent.textContent = `${percentDone}% done`;\n",
              "\n",
              "    } while (position < fileData.byteLength);\n",
              "  }\n",
              "\n",
              "  // All done.\n",
              "  yield {\n",
              "    response: {\n",
              "      action: 'complete',\n",
              "    }\n",
              "  };\n",
              "}\n",
              "\n",
              "scope.google = scope.google || {};\n",
              "scope.google.colab = scope.google.colab || {};\n",
              "scope.google.colab._files = {\n",
              "  _uploadFiles,\n",
              "  _uploadFilesContinue,\n",
              "};\n",
              "})(self);\n",
              "</script> "
            ]
          },
          "metadata": {}
        },
        {
          "output_type": "stream",
          "name": "stdout",
          "text": [
            "Saving kaggle.json to kaggle.json\n",
            "Downloading songs-lyrics.zip to /content\n",
            " 41% 5.00M/12.1M [00:00<00:00, 37.1MB/s]\n",
            "100% 12.1M/12.1M [00:00<00:00, 66.0MB/s]\n"
          ]
        }
      ],
      "source": [
        "! pip install -q kaggle\n",
        "from google.colab import files\n",
        "files.upload() # Upload kaggle.json as described in the link\n",
        "! mkdir ~/.kaggle\n",
        "! cp kaggle.json ~/.kaggle/\n",
        "! chmod 600 ~/.kaggle/kaggle.json\n",
        "! kaggle datasets download -d terminate9298/songs-lyrics\n",
        "! unzip -q songs-lyrics.zip -d data"
      ]
    },
    {
      "cell_type": "markdown",
      "metadata": {
        "collapsed": false,
        "id": "MQdWxIrz8nXp"
      },
      "source": [
        "### Imports"
      ]
    },
    {
      "cell_type": "code",
      "execution_count": 2,
      "metadata": {
        "id": "rMqvzYWA8nXp"
      },
      "outputs": [],
      "source": [
        "import torch\n",
        "import torch.nn as nn\n",
        "import torch.optim as optim\n",
        "from torch.utils.data import Dataset, DataLoader\n",
        "from sklearn.model_selection import train_test_split\n",
        "import numpy as np\n",
        "import pandas as pd\n",
        "import matplotlib.pyplot as plt\n",
        "from tqdm import tqdm\n",
        "import torch.nn.functional as F\n",
        "\n",
        "from torchtext.data import get_tokenizer\n",
        "from torchtext.vocab import build_vocab_from_iterator\n",
        "import random\n",
        "\n",
        "\n",
        "device = torch.device('cuda' if torch.cuda.is_available() else 'cpu')\n"
      ]
    },
    {
      "cell_type": "markdown",
      "metadata": {
        "collapsed": false,
        "id": "1KpcvjWV8nXp"
      },
      "source": [
        "### Load the dataset"
      ]
    },
    {
      "cell_type": "code",
      "execution_count": 3,
      "metadata": {
        "id": "YsP3htW48nXp"
      },
      "outputs": [],
      "source": [
        "# Load the lyrics dataset\n",
        "lyrics_df = pd.read_csv('data/lyrics.csv')\n",
        "# Load the songs details dataset\n",
        "songs_df = pd.read_csv('data/songs_details.csv')\n",
        "\n",
        "\n",
        "# Merge the two datasets on the 'song_name' column\n",
        "df = pd.merge(lyrics_df, songs_df, on='song_name')\n",
        "\n",
        "# Drop unnecessary columns\n",
        "df = df.drop(['link', 'song_id', 'singer_name', 'song_href'], axis=1)\n",
        "\n",
        "# Drop rows with missing values or empty strings\n",
        "df = df.dropna()\n",
        "df = df[df['lyrics'] != '']\n",
        "\n",
        "\n",
        "song_lyrics = lyrics_df['lyrics'].tolist()\n",
        "song_titles = songs_df['song_name'].tolist()[0:len(song_lyrics)]\n",
        "\n",
        "tokenizer = get_tokenizer('basic_english')\n",
        "\n",
        "def tokenize_and_pad(arr, max_len=100):\n",
        "    tokenized = [tokenizer(text)[:max_len] for text in arr]\n",
        "    padded = []\n",
        "    for tokens in tokenized:\n",
        "        padded.append(tokens + ['<pad>'] * (max_len - len(tokens)))\n",
        "    return padded\n",
        "\n",
        "song_lyrics_tokenized = tokenize_and_pad(song_lyrics)\n",
        "song_titles_tokenized = tokenize_and_pad(song_titles)\n",
        "\n",
        "vocab = build_vocab_from_iterator(song_lyrics_tokenized + song_titles_tokenized, min_freq=2, specials=['<unk>', '<sos>', '<eos>', '<pad>'])\n",
        "vocab.set_default_index(vocab['<unk>'])\n",
        "\n",
        "stoi = vocab.get_stoi()\n",
        "itos = vocab.get_itos()\n",
        "\n",
        "def tokens_to_indices(arr):\n",
        "    return [[stoi.get(token, stoi['<unk>']) for token in tokens] for tokens in arr]\n",
        "\n",
        "\n",
        "song_lyrics_indices = tokens_to_indices(song_lyrics_tokenized)\n",
        "song_titles_indices = tokens_to_indices(song_titles_tokenized)\n",
        "\n",
        "train_lyrics, test_lyrics, train_titles, test_titles = train_test_split(song_lyrics_indices, song_titles_indices, test_size=0.2, random_state=42)\n",
        "\n",
        "\n",
        "class SongDataset(Dataset):\n",
        "    def __init__(self, song_lyrics, song_titles):\n",
        "        self.song_lyrics = song_lyrics\n",
        "        self.song_titles = song_titles\n",
        "\n",
        "    def __len__(self):\n",
        "        return len(self.song_lyrics)\n",
        "\n",
        "    def __getitem__(self, idx):\n",
        "        if torch.is_tensor(idx):\n",
        "            idx = idx.tolist()\n",
        "        return {'song_lyric': torch.tensor(self.song_lyrics[idx]), 'song_title': torch.tensor(self.song_titles[idx])}\n",
        "\n",
        "train_dataset = SongDataset(train_lyrics, train_titles)\n",
        "test_dataset = SongDataset(test_lyrics, test_titles)\n",
        "\n",
        "train_dataloader = DataLoader(train_dataset, batch_size=32, shuffle=True, num_workers=0)\n",
        "test_dataloader = DataLoader(test_dataset, batch_size=32, shuffle=True, num_workers=0)\n"
      ]
    },
    {
      "cell_type": "markdown",
      "metadata": {
        "id": "OmekLDjRjZVX"
      },
      "source": [
        "### Model without attention"
      ]
    },
    {
      "cell_type": "code",
      "execution_count": 4,
      "metadata": {
        "id": "wI5UhkkJjcML"
      },
      "outputs": [],
      "source": [
        "class EncoderWithout(nn.Module):\n",
        "    def __init__(self, input_size, hidden_size, num_layers, dropout_rate):\n",
        "        super(EncoderWithout, self).__init__()\n",
        "        self.hidden_size = hidden_size\n",
        "        self.num_layers = num_layers\n",
        "\n",
        "        self.embedding = nn.Embedding(input_size, hidden_size)\n",
        "        self.lstm = nn.LSTM(hidden_size, hidden_size, num_layers, dropout=dropout_rate, batch_first=True)\n",
        "\n",
        "    def forward(self, x):\n",
        "        x = self.embedding(x)\n",
        "        outputs, (hidden, cell) = self.lstm(x)\n",
        "        return hidden, cell\n",
        "\n",
        "\n",
        "class DecoderWithout(nn.Module):\n",
        "    def __init__(self, input_size, hidden_size, num_layers, dropout_rate):\n",
        "        super(DecoderWithout, self).__init__()\n",
        "        self.hidden_size = hidden_size\n",
        "        self.num_layers = num_layers\n",
        "\n",
        "        self.embedding = nn.Embedding(input_size, hidden_size)\n",
        "        self.lstm = nn.LSTM(hidden_size, hidden_size, num_layers, dropout=dropout_rate, batch_first=True)\n",
        "        self.fc = nn.Linear(hidden_size, input_size)\n",
        "\n",
        "    def forward(self, x, hidden, cell):\n",
        "        x = x.unsqueeze(1)\n",
        "        x = self.embedding(x)\n",
        "        output, (hidden, cell) = self.lstm(x, (hidden, cell))\n",
        "        predictions = self.fc(output)\n",
        "        predictions = predictions.squeeze(1)\n",
        "        return predictions, hidden, cell\n",
        "\n",
        "\n",
        "class Seq2SeqWithout(nn.Module):\n",
        "    def __init__(self, encoder, decoder):\n",
        "        super(Seq2SeqWithout, self).__init__()\n",
        "        self.encoder = encoder\n",
        "        self.decoder = decoder\n",
        "\n",
        "    def forward(self, source, target, encoder_outputs, teacher_force_ratio=0.5):\n",
        "        batch_size = source.shape[0]\n",
        "        target_len = target.shape[1]\n",
        "        target_vocab_size = len(vocab)\n",
        "\n",
        "        outputs = torch.zeros(batch_size, target_len, target_vocab_size).to(device)\n",
        "\n",
        "        hidden, cell = self.encoder(source)\n",
        "\n",
        "        x = target[:, 0]\n",
        "\n",
        "        for t in range(1, target_len):\n",
        "            output, hidden, cell = self.decoder(x, hidden, cell)\n",
        "            outputs[:, t] = output\n",
        "            teacher_force = random.random() < teacher_force_ratio\n",
        "            best_guess = output.argmax(1)\n",
        "            x = target[:, t] if teacher_force else best_guess\n",
        "\n",
        "        return outputs\n",
        "\n",
        "\n"
      ]
    },
    {
      "cell_type": "markdown",
      "metadata": {
        "collapsed": false,
        "id": "EBEzXzsM8nXq"
      },
      "source": [
        "### Model with attention"
      ]
    },
    {
      "cell_type": "code",
      "execution_count": 5,
      "metadata": {
        "id": "yn4N05sw8nXr"
      },
      "outputs": [],
      "source": [
        "class Encoder(nn.Module):\n",
        "    def __init__(self, input_size, hidden_size, num_layers, dropout_rate):\n",
        "        super(Encoder, self).__init__()\n",
        "        self.hidden_size = hidden_size\n",
        "        self.num_layers = num_layers\n",
        "\n",
        "        self.embedding = nn.Embedding(input_size, hidden_size)\n",
        "        self.lstm = nn.LSTM(hidden_size, hidden_size, num_layers, dropout=dropout_rate, batch_first=True)\n",
        "\n",
        "    def forward(self, x):\n",
        "        x = self.embedding(x)\n",
        "        outputs, (hidden, cell) = self.lstm(x)\n",
        "        return outputs, hidden, cell\n",
        "\n",
        "\n",
        "class Attention(nn.Module):\n",
        "    def __init__(self, hidden_size):\n",
        "        super(Attention, self).__init__()\n",
        "        self.W1 = nn.Linear(hidden_size, hidden_size)\n",
        "        self.W2 = nn.Linear(hidden_size, hidden_size)\n",
        "        self.V = nn.Linear(hidden_size, 1)\n",
        "\n",
        "    def forward(self, hidden, encoder_outputs):\n",
        "        hidden = hidden[-1].unsqueeze(1)\n",
        "        energy = torch.tanh(self.W1(encoder_outputs) + self.W2(hidden))\n",
        "        attention = F.softmax(self.V(energy), dim=1)\n",
        "        context = torch.sum(attention * encoder_outputs, dim=1)\n",
        "        return context, attention\n",
        "\n",
        "\n",
        "class Decoder(nn.Module):\n",
        "    def __init__(self, input_size, hidden_size, num_layers, dropout_rate):\n",
        "        super(Decoder, self).__init__()\n",
        "        self.hidden_size = hidden_size\n",
        "        self.num_layers = num_layers\n",
        "\n",
        "        self.embedding = nn.Embedding(input_size, hidden_size)\n",
        "        self.lstm = nn.LSTM(hidden_size * 2, hidden_size, num_layers, dropout=dropout_rate, batch_first=True)\n",
        "        self.fc = nn.Linear(hidden_size, input_size)\n",
        "        self.attention = Attention(hidden_size)\n",
        "\n",
        "    def forward(self, x, hidden, cell, encoder_outputs):\n",
        "        x = x.unsqueeze(1)\n",
        "        x = self.embedding(x)\n",
        "\n",
        "        context, attention_weights = self.attention(hidden, encoder_outputs)\n",
        "        context = context.unsqueeze(1)\n",
        "        x = torch.cat((x, context), dim=2)\n",
        "\n",
        "        output, (hidden, cell) = self.lstm(x, (hidden, cell))\n",
        "        predictions = self.fc(output)\n",
        "        predictions = predictions.squeeze(1)\n",
        "\n",
        "        return predictions, hidden, cell, attention_weights\n",
        "\n",
        "class Seq2Seq(nn.Module):\n",
        "    def __init__(self, encoder, decoder):\n",
        "        super(Seq2Seq, self).__init__()\n",
        "        self.encoder = encoder\n",
        "        self.decoder = decoder\n",
        "\n",
        "    def forward(self, source, target, teacher_force_ratio=0.5):\n",
        "        batch_size = source.shape[0]\n",
        "        target_len = target.shape[1]\n",
        "        target_vocab_size = len(vocab)\n",
        "\n",
        "        outputs = torch.zeros(batch_size, target_len, target_vocab_size).to(device)\n",
        "\n",
        "        encoder_outputs, hidden, cell = self.encoder(source)\n",
        "\n",
        "        x = target[:, 0]\n",
        "\n",
        "        for t in range(1, target_len):\n",
        "            output, hidden, cell, attention_weights = self.decoder(x, hidden, cell, encoder_outputs)\n",
        "            outputs[:, t] = output\n",
        "            teacher_force = random.random() < teacher_force_ratio\n",
        "            best_guess = output.argmax(1)\n",
        "            x = target[:, t] if teacher_force else best_guess\n",
        "\n",
        "        return outputs\n",
        "\n"
      ]
    },
    {
      "cell_type": "markdown",
      "metadata": {
        "collapsed": false,
        "id": "oXLjmmZc8nXs"
      },
      "source": [
        "### Initialize the models"
      ]
    },
    {
      "cell_type": "code",
      "execution_count": 6,
      "metadata": {
        "id": "5hZv4Xad7GTh"
      },
      "outputs": [],
      "source": [
        "input_size_without = len(vocab)\n",
        "hidden_size_without = 512\n",
        "num_layers_without = 2\n",
        "dropout_rate_without = 0.5\n",
        "\n",
        "encoder_without = EncoderWithout(input_size_without, hidden_size_without, num_layers_without, dropout_rate_without).to(device)\n",
        "decoder_without = DecoderWithout(input_size_without, hidden_size_without, num_layers_without, dropout_rate_without).to(device)\n",
        "\n",
        "model_without = Seq2SeqWithout(encoder_without, decoder_without).to(device)\n",
        "\n",
        "epochs_without = 10\n",
        "lr_without = 0.001\n",
        "clip_without = 1\n",
        "\n",
        "criterion_without = nn.CrossEntropyLoss(ignore_index=vocab.get_stoi()['<pad>'])\n",
        "optimizer_without = optim.Adam(model_without.parameters(), lr=lr_without)\n",
        "\n",
        "\n",
        "\n",
        "\n",
        "input_size = len(vocab)\n",
        "hidden_size = 128\n",
        "num_layers = 2\n",
        "dropout_rate = 0.5\n",
        "\n",
        "encoder = Encoder(input_size, hidden_size, num_layers, dropout_rate).to(device)\n",
        "decoder = Decoder(input_size, hidden_size, num_layers, dropout_rate).to(device)\n",
        "model = Seq2Seq(encoder, decoder).to(device)\n",
        "\n",
        "epochs = 20\n",
        "lr = 0.001\n",
        "clip = 1\n",
        "\n",
        "optimizer = optim.Adam(model.parameters(), lr=lr)\n",
        "criterion = nn.CrossEntropyLoss(ignore_index=vocab.get_stoi()['<pad>'])\n"
      ]
    },
    {
      "cell_type": "markdown",
      "metadata": {
        "id": "E0Mt9M2lE2Hl"
      },
      "source": [
        "### Training and Evaluation"
      ]
    },
    {
      "cell_type": "code",
      "execution_count": 7,
      "metadata": {
        "id": "iN7HYXD4E6MC"
      },
      "outputs": [],
      "source": [
        "def train(model, dataloader, optimizer, criterion, clip):\n",
        "    model.train()\n",
        "\n",
        "    epoch_loss = 0\n",
        "    for batch in dataloader:\n",
        "        optimizer.zero_grad()\n",
        "\n",
        "        song_lyric = batch['song_lyric'].to(device)\n",
        "        song_title = batch['song_title'].to(device)\n",
        "\n",
        "        output = model(song_lyric, song_title)\n",
        "        output = output[:, 1:].reshape(-1, output.shape[2])\n",
        "        song_title = song_title[:, 1:].reshape(-1)\n",
        "\n",
        "\n",
        "        loss = criterion(output, song_title)\n",
        "        loss.backward()\n",
        "\n",
        "        torch.nn.utils.clip_grad_norm_(model.parameters(), clip)\n",
        "        optimizer.step()\n",
        "\n",
        "        epoch_loss += loss.item()\n",
        "\n",
        "    return epoch_loss / len(dataloader)\n",
        "\n",
        "\n",
        "def evaluate(model, dataloader, criterion):\n",
        "    model.eval()\n",
        "\n",
        "    epoch_loss = 0\n",
        "    with torch.no_grad():\n",
        "        for batch in dataloader:\n",
        "            song_lyric = batch['song_lyric'].to(device)\n",
        "            song_title = batch['song_title'].to(device)\n",
        "\n",
        "            output = model(song_lyric, song_title)\n",
        "            output = output[:, 1:].reshape(-1, output.shape[2])\n",
        "            song_title = song_title[:, 1:].reshape(-1)\n",
        "\n",
        "            loss = criterion(output, song_title)\n",
        "            epoch_loss += loss.item()\n",
        "\n",
        "    return epoch_loss / len(dataloader)\n",
        "\n",
        "\n",
        "def train_and_evaluate(model, train_dataloader, test_dataloader, optimizer, criterion, epochs, clip, name=''):\n",
        "\n",
        "    training_losses = []\n",
        "    validation_losses = []\n",
        "    for epoch in range(epochs):\n",
        "        print(f'Epoch {epoch + 1}/{epochs}')\n",
        "        train_loss = train(model, train_dataloader, optimizer, criterion, clip)\n",
        "        valid_loss = evaluate(model, test_dataloader, criterion)\n",
        "\n",
        "        training_losses.append(train_loss)\n",
        "        validation_losses.append(valid_loss)\n",
        "\n",
        "    plt.plot(training_losses, label='training loss')\n",
        "    plt.plot(validation_losses, label='validation loss')\n",
        "    plt.legend()\n",
        "    plt.title(f'seq2seq_songtitles{\"_\" + name}')\n",
        "    plt.show()\n"
      ]
    },
    {
      "cell_type": "code",
      "execution_count": 27,
      "metadata": {
        "id": "BhPC-Rk7FDVs",
        "pycharm": {
          "is_executing": true
        },
        "colab": {
          "base_uri": "https://localhost:8080/",
          "height": 887
        },
        "outputId": "7bb4b502-928b-4041-d38a-7e8f22bd5bcf"
      },
      "outputs": [
        {
          "output_type": "display_data",
          "data": {
            "text/plain": [
              "<Figure size 640x480 with 1 Axes>"
            ],
            "image/png": "[encoded data removed]"
          },
          "metadata": {}
        },
        {
          "output_type": "display_data",
          "data": {
            "text/plain": [
              "<Figure size 640x480 with 1 Axes>"
            ],
            "image/png": "[encoded data removed]"
          },
          "metadata": {}
        }
      ],
      "source": [
        "train_and_evaluate(model, train_dataloader, test_dataloader, optimizer, criterion, epochs, clip)\n",
        "train_and_evaluate(model_without, train_dataloader, test_dataloader, optimizer_without, criterion_without, epochs_without, clip_without, 'without')"
      ]
    },
    {
      "cell_type": "markdown",
      "source": [
        "### The cells below use Beam-Search to generate a song title"
      ],
      "metadata": {
        "id": "Fc8zMBDSFS3X"
      }
    },
    {
      "cell_type": "markdown",
      "source": [
        "Model with Attention"
      ],
      "metadata": {
        "id": "PUAjs8N-Ihoe"
      }
    },
    {
      "cell_type": "code",
      "execution_count": 11,
      "metadata": {
        "id": "Yl69Sq8F8nXu",
        "pycharm": {
          "is_executing": true
        }
      },
      "outputs": [],
      "source": [
        "from heapq import nlargest\n",
        "\n",
        "def beam_search(model, lyrics, max_length=100, beam_width=5):\n",
        "    model.eval()\n",
        "\n",
        "    lyrics_tokens = tokenizer(lyrics.lower())\n",
        "    lyrics_indices = tokens_to_indices([lyrics_tokens])[0]\n",
        "    lyrics_tensor = torch.LongTensor(lyrics_indices).unsqueeze(0).to(device)\n",
        "\n",
        "    with torch.no_grad():\n",
        "        encoder_outputs, hidden, cell = model.encoder(lyrics_tensor)\n",
        "\n",
        "    sequences = [([], 0, hidden, cell)]\n",
        "\n",
        "    for _ in range(max_length):\n",
        "        new_sequences = []\n",
        "\n",
        "        for seq, score, hidden, cell in sequences:\n",
        "            x = torch.tensor([seq[-1] if seq else vocab.get_stoi()['<sos>']]).to(device)\n",
        "\n",
        "            with torch.no_grad():\n",
        "                output, hidden, cell, attention_weights = model.decoder(x, hidden, cell, encoder_outputs)\n",
        "\n",
        "            output = F.log_softmax(output, dim=1).squeeze(0)\n",
        "\n",
        "            topk_scores, topk_indices = output.topk(beam_width, dim=-1)\n",
        "\n",
        "            for index, token_score in enumerate(topk_scores):\n",
        "                token_idx = topk_indices[index].item()\n",
        "                new_seq = seq + [token_idx]\n",
        "                new_score = score + token_score.item()\n",
        "                new_hidden = hidden.clone().detach()\n",
        "                new_cell = cell.clone().detach()\n",
        "\n",
        "                if token_idx == vocab.get_stoi()['<eos>']:\n",
        "                    return new_seq\n",
        "\n",
        "                new_sequences.append((new_seq, new_score, new_hidden, new_cell))\n",
        "\n",
        "        sequences = nlargest(beam_width, new_sequences, key=lambda x: x[1])\n",
        "\n",
        "    best_sequence = max(sequences, key=lambda x: x[1])[0]\n",
        "    return best_sequence\n",
        "\n",
        "def generate_title_beam_search(model, lyrics, max_length=100, beam_width=5):\n",
        "    generated_title_indices = beam_search(model, lyrics, max_length, beam_width)\n",
        "    generated_title_tokens = [vocab.get_itos()[idx] for idx in generated_title_indices]\n",
        "    title_string = ' '.join(token for token in generated_title_tokens if token not in ['<unk>', '<sos>', '<eos>', '<pad>', '(', ')', \"'\"])\n",
        "    return title_string\n",
        "\n"
      ]
    },
    {
      "cell_type": "code",
      "execution_count": 37,
      "metadata": {
        "id": "ryU8B-DROb6q",
        "pycharm": {
          "is_executing": true
        },
        "colab": {
          "base_uri": "https://localhost:8080/"
        },
        "outputId": "0b466bf9-17a5-4367-9849-5e284aeee1cd"
      },
      "outputs": [
        {
          "output_type": "stream",
          "name": "stdout",
          "text": [
            "Lyrics: ah the star out tonight i don ' t know if it ' s cloudy or bright ' cause i only have eyes for you dear the moon may be high but i can ' t see a thing in the sky ' cause i only have eyes for you i don ' t know if we ' re in a garden or on a crowded avenue you are here so am i maybe millions of people go by but they all disappear from view and i only have eyes . . . . . <pad> <pad> <pad> <pad> <pad>\n",
            "Original title: maneater\n",
            "Generated title: cold outside\n",
            "\n",
            "Lyrics: and i love you so , the people ask me how , how i ' ve lived till now i tell them i don ' t know i guess they understand how lonely life has been but life began again the day you took my hand and yes i know how lonely life can be shadows follow me the night won ' t set me free but i don ' t let the evening get me down now that you ' re around me and you love me too your thoughts are just for me you set my spirit free\n",
            "Original title: kriss kross\n",
            "Generated title: if i m gone home remix\n",
            "\n",
            "Lyrics: i ain ' t tellin no jokes my money ain ' t funny imma throw them bands we rollin up blunts and throwing up <unk> imma throw them bands don ' t worry bout lames they ain ' t gettin no money imma throw them bands yeah oh yeah yeaaah you know them red bottles cost me louis v be costing we walk in the club we be droppin doe migo love talkin future love talkin travis they be talkin ain ' t tellin no joke i ' m runnin out of loud i ' m poppin them bands they\n",
            "Original title: mask off ( <unk> remix )\n",
            "Generated title: i m following you remix\n",
            "\n",
            "Lyrics: that good times can be a trap oh yea ? oh hell naw check myself intro rehab yeah , um . . . i might die before i detox you piece of shit now that ' s a bar i ' m gonna save that one for a little bit now let me come with something else , you feel me ? this air <unk> on my flip-flops and kill me now if i did it all for hip-hop i might die before i detox this ain ' t high-school , no little asian i can cheat off we keep\n",
            "Original title: five points freestyle\n",
            "Generated title: on the beast\n",
            "\n",
            "Lyrics: [hook x2 wiz khalifa] have a little party at my crib and all the weed is rolled that ' s how it is when you fucking with some og niggas blowing og smoke don ' t even gotta ask , you already know , we ' bout to go [verse 1 wiz khalifa] young nigga that ' s more famous than these older niggas young nigga got my game up from these older niggas motherfuckas hear my name , i say i told you nigga i was taught to count my paper ' fore i fold it nigga now look\n",
            "Original title: cool\n",
            "Generated title: interlude remix\n",
            "\n",
            "Lyrics: love wandered inside stronger than you stronger than i and now that it has begun we cannot turn back we can only turn into one [chorus ] i won ' t ever be too far away to feel you and i won ' t hesitate at all whenever you call and i ' ll always remember the part of you so tender i ' ll be the one to catch your fall whenever you call and i ' m truly inspired finding my soul there in your eyes and you have opened my heart and lifted me inside by showingOriginal title: i ain ' t gonna stand for it\n",
            "Generated title: and the wind of the altar of the !\n",
            "\n",
            "Lyrics: somebody loves me , i wonder who , i wonder who she can be . somebody loves me , i wish i knew , who she can be worries me . for ev ' ry girl who passes me , i shout , hey ! maybe you were meant to be my lovin ' baby ? somebody loves me , i wonder who , maybe it ' s you ! <pad> <pad> <pad> <pad> <pad> <pad> <pad> <pad> <pad> <pad> <pad> <pad> <pad> <pad> <pad> <pad> <pad> <pad> <pad> <pad> <pad> <pad> <pad> <pad> <pad> <pad> <pad> <pad> <pad> <pad>\n",
            "Original title: when cowboys didn ' t dance\n",
            "Generated title: the beast freestyle\n",
            "\n"
          ]
        }
      ],
      "source": [
        "indices = np.random.randint(0, len(test_dataset), 30)\n",
        "for i in indices:\n",
        "    lyrics = test_dataset[i]['song_lyric']\n",
        "    title = test_dataset[i]['song_title']\n",
        "    lyrics = ' '.join([vocab.get_itos()[idx] for idx in lyrics])\n",
        "    title = ' '.join([vocab.get_itos()[idx] for idx in title if idx != 3])\n",
        "    generated_title = generate_title_beam_search(model, lyrics)\n",
        "    print(f\"Lyrics: {lyrics}\")\n",
        "    print(f\"Original title: {title}\")\n",
        "    print(f\"Generated title: {generated_title}\")\n",
        "    print()"
      ]
    },
    {
      "cell_type": "markdown",
      "source": [
        "Model without Attention"
      ],
      "metadata": {
        "id": "qpPAI8lmIkG5"
      }
    },
    {
      "cell_type": "code",
      "execution_count": 23,
      "metadata": {
        "id": "CVYNZ2gr4tO8",
        "pycharm": {
          "is_executing": true
        }
      },
      "outputs": [],
      "source": [
        "def update_beam_and_finished(beam_candidates, finished_candidates, eos_token):\n",
        "    new_beam = []\n",
        "    for candidate in beam_candidates:\n",
        "        if candidate[0][-1] == eos_token:\n",
        "            finished_candidates.append(candidate)\n",
        "        else:\n",
        "            new_beam.append(candidate)\n",
        "    return new_beam, finished_candidates\n",
        "\n",
        "def generate_title_without(model, input_lyric, max_length=100, beam_size=5):\n",
        "    model.eval()\n",
        "\n",
        "    input_indices = tokens_to_indices(tokenize_and_pad([input_lyric], max_length))\n",
        "    input_tensor = torch.tensor(input_indices).to(device)\n",
        "\n",
        "    hidden, cell = model.encoder(input_tensor)\n",
        "\n",
        "    beam_candidates = [([vocab['<sos>']], 0, hidden, cell)]\n",
        "    finished_candidates = []\n",
        "\n",
        "    for _ in range(max_length):\n",
        "        new_candidates = []\n",
        "\n",
        "        for candidate in beam_candidates:\n",
        "            seq, score, hidden, cell = candidate\n",
        "            prev_word = torch.tensor([seq[-1]]).to(device)\n",
        "\n",
        "            with torch.no_grad():\n",
        "                output, hidden, cell = model.decoder(prev_word, hidden, cell)\n",
        "                output = F.log_softmax(output, dim=1)\n",
        "            \n",
        "            topk_output, topk_indices = output.topk(beam_size, 1)\n",
        "\n",
        "            for i in range(beam_size):\n",
        "                new_seq = seq + [topk_indices[0][i].item()]\n",
        "                new_score = score + topk_output[0][i].item()\n",
        "                new_candidate = (new_seq, new_score, hidden, cell)\n",
        "                new_candidates.append(new_candidate)\n",
        "\n",
        "        beam_candidates = sorted(new_candidates, key=lambda x: x[1], reverse=True)[:beam_size]\n",
        "        beam_candidates, finished_candidates = update_beam_and_finished(beam_candidates, finished_candidates, vocab['<eos>'])\n",
        "\n",
        "    if finished_candidates:\n",
        "        best_candidate = sorted(finished_candidates, key=lambda x: x[1], reverse=True)[0]\n",
        "    else:\n",
        "        best_candidate = sorted(beam_candidates, key=lambda x: x[1], reverse=True)[0]\n",
        "\n",
        "    decoded_title = [itos[idx] for idx in best_candidate[0][1:]]\n",
        "    title = ' '.join(token for token in decoded_title if token not in ['<unk>', '<sos>', '<eos>', '<pad>', '(', ')', \"'\"])\n",
        "\n",
        "    return title\n",
        "\n"
      ]
    },
    {
      "cell_type": "code",
      "execution_count": 36,
      "metadata": {
        "id": "w37rshZ0KEFy",
        "pycharm": {
          "is_executing": true
        },
        "colab": {
          "base_uri": "https://localhost:8080/"
        },
        "outputId": "c26f2137-573f-449a-e07b-075b604ec34e"
      },
      "outputs": [
        {
          "output_type": "stream",
          "name": "stdout",
          "text": [
            "Lyrics: how come the best ones are always taken what i see when i see ya - is love in the makin ' something about timin ' , something about fate gotta go with the feeling - not a moment too waste bring it on bring it on <unk> - i was born ready i ' m a son of a strong man - i ' m rock steady everything you throw - i can see it coming ain ' t gonna be no tko just a lot of lovin ' cuz opposites attract this way if day is night and\n",
            "Original title: how many birds\n",
            "Generated title: in the mirror remix\n",
            "\n",
            "Lyrics: i just bought a new watch i think they on to us i got four or five spots i think they on to us all we drive is foreign cars i think they on to us every time i ' m in the club i ' m with a foreign brand i swear they on to us ap or frank <unk> i got choices i ' m in the car by myself i ' m hearing voices lamborghini , bentley coupe , bentley , rolls royces gotta the way entourage attracts the task forces hand the kush out the dj\n",
            "Original title: feed tha streets\n",
            "Generated title: around the wall remix\n",
            "\n",
            "Lyrics: i know that it ' s over but i still <unk> ' bout the very first time that i saw you and the first time that we kissed i still recall the days of good old love we made without taking off our clothes you spoke a language to my body baby so universal , you and me talking baby ooh ahhh , oh my , ooh la la la la uhh uhh , uhh uhh speaking in tongues babe with you maybe we could exchange a little conversation <unk> 69 call me boy anytime don ' t need no\n",
            "Original title: irresistible\n",
            "Generated title: in translation freestyle remix\n",
            "\n",
            "Lyrics: as war drums beat in babylon cinnamon girl starts 2 pray eye ' ve never heard a prayer like this 1 never b4 that day tearful words of love 4 people she had never met b4 asking god 2 grant them mercy in this face of a holy war cinnamon girl cinnamon girl of mixed <unk> never knew the meaning of color lines 911 turned that all around when she got accused of this crime so began the mass illusion , war on terror alibi what ' s the use when the god of confusion keeps on telling the same\n",
            "Original title: arrogance\n",
            "Generated title: young girl part ii live\n",
            "\n",
            "Lyrics: [bruno mars & gucci mane ] fly , fly , fly it ' s gucci ( it ' s gucci ) huh ? fly ( woo ) i drink ' til i ' m drunk ( yeah ) , smoke ' til i ' m high ( yeah ) castle on the hill ( well damn ) , wake up in the sky you can ' t tell me i ain ' t fly ( you can ' t tell me i ain ' t fly ) i know i ' m super fly ( i know ) , i\n",
            "Original title: with or without you\n",
            "Generated title: fly remix\n",
            "\n"
          ]
        }
      ],
      "source": [
        "indices = np.random.randint(0, len(test_dataset), 5)\n",
        "for i in indices:\n",
        "    lyrics = test_dataset[i]['song_lyric']\n",
        "    title = test_dataset[i]['song_title']\n",
        "    lyrics = ' '.join([vocab.get_itos()[idx] for idx in lyrics])\n",
        "    title = ' '.join([vocab.get_itos()[idx] for idx in title if idx != 3])\n",
        "    generated_title = generate_title_without(model_without, lyrics)\n",
        "    print(f\"Lyrics: {lyrics}\")\n",
        "    print(f\"Original title: {title}\")\n",
        "    print(f\"Generated title: {generated_title}\")\n",
        "    print()"
      ]
    }
  ],
  "metadata": {
    "accelerator": "GPU",
    "colab": {
      "provenance": []
    },
    "gpuClass": "standard",
    "kernelspec": {
      "display_name": "Python 3",
      "language": "python",
      "name": "python3"
    },
    "language_info": {
      "codemirror_mode": {
        "name": "ipython",
        "version": 2
      },
      "file_extension": ".py",
      "mimetype": "text/x-python",
      "name": "python",
      "nbconvert_exporter": "python",
      "pygments_lexer": "ipython2",
      "version": "2.7.6"
    }
  },
  "nbformat": 4,
  "nbformat_minor": 0
}
